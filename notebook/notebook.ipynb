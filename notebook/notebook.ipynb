{
 "cells": [
  {
   "cell_type": "markdown",
   "metadata": {},
   "source": [
    "# ATAC-Seq Pipeline running a workflow in a Jupyter Notebook\n",
    "\n",
    "This is a Jupyter notebook that combines an ATACSeq pipeline running in Nextflow with an interactive data analysis performing.\n",
    "\n",
    "The repository found [here](https://github.com/NCBI-Hackathons/ATACFlow) contains both the workflow and this Jupyter notebook. It was developed during the Rocky Mountains Genomics HackCon 2018 in Boulder, Colorado.\n",
    "\n",
    "There is currently two general ways to run the Notebook\n",
    "\n",
    "The workflow is configured to run with either conda, Docker or singularity."
   ]
  },
  {
   "cell_type": "markdown",
   "metadata": {},
   "source": [
    "### Step 1: Export Amazon Web Services Keys (Optional)\n",
    "If you wish to run with Amazon Batch, simply enter your AWS key and specify your s3 bucket."
   ]
  },
  {
   "cell_type": "markdown",
   "metadata": {},
   "source": [
    "### Step 2: Run the workflow\n",
    "Below runs the workflow with locally using Docker"
   ]
  },
  {
   "cell_type": "code",
   "execution_count": null,
   "metadata": {},
   "outputs": [],
   "source": [
    "!nextflow run NCBI-Hackathons/ATACFlow -profile docker,test -r v0.1.1 -resume"
   ]
  },
  {
   "cell_type": "markdown",
   "metadata": {},
   "source": [
    "### Step 3: View the results of quality control"
   ]
  },
  {
   "cell_type": "code",
   "execution_count": null,
   "metadata": {},
   "outputs": [],
   "source": [
    "from IPython.display import HTML\n",
    "HTML(filename=\"./results/MultiQC/multiqc_report.html\")"
   ]
  },
  {
   "cell_type": "markdown",
   "metadata": {},
   "source": [
    "### Step 4: Process the ATAC peaks for each sample\n",
    "The script `process_atac` performs ..."
   ]
  },
  {
   "cell_type": "code",
   "execution_count": null,
   "metadata": {},
   "outputs": [],
   "source": [
    "!process_atac --prefix  'zhbtc4' --atac-peaks ./results/macs2/SRR5204807/SRR5204807_peaks.broadPeak \\\n",
    "  --motif-path motif-data\n",
    "!process_atac --prefix  'zhbtc4' --atac-peaks ./results/macs2/SRR5204808/SRR5204808_peaks.broadPeak \\\n",
    "  --motif-path motif-data"
   ]
  },
  {
   "cell_type": "markdown",
   "metadata": {},
   "source": [
    "### Step 5: Perform differential analysis on between the samples"
   ]
  },
  {
   "cell_type": "code",
   "execution_count": null,
   "metadata": {},
   "outputs": [],
   "source": [
    "!differential_md_score -x 'ZHBTC4' -1 'Control' -2 'Tamoxifen' -p 0.00001"
   ]
  },
  {
   "cell_type": "code",
   "execution_count": null,
   "metadata": {},
   "outputs": [],
   "source": [
    "### Step 6: Plot the results"
   ]
  },
  {
   "cell_type": "code",
   "execution_count": null,
   "metadata": {},
   "outputs": [],
   "source": [
    "from IPython.display import Image\n",
    "Image(filename='ZHBTC4_MA_Control_to_Tamoxifen_md_score.png')"
   ]
  },
  {
   "cell_type": "code",
   "execution_count": null,
   "metadata": {},
   "outputs": [],
   "source": []
  }
 ],
 "metadata": {
  "kernelspec": {
   "display_name": "Python 3",
   "language": "python",
   "name": "python3"
  },
  "language_info": {
   "codemirror_mode": {
    "name": "ipython",
    "version": 3
   },
   "file_extension": ".py",
   "mimetype": "text/x-python",
   "name": "python",
   "nbconvert_exporter": "python",
   "pygments_lexer": "ipython3",
   "version": "3.6.4"
  }
 },
 "nbformat": 4,
 "nbformat_minor": 2
}
